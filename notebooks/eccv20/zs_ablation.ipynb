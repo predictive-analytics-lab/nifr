{
 "cells": [
  {
   "cell_type": "code",
   "execution_count": 2,
   "metadata": {},
   "outputs": [],
   "source": [
    "import pandas as pd\n",
    "import matplotlib.pyplot as plt"
   ]
  },
  {
   "cell_type": "code",
   "execution_count": 3,
   "metadata": {},
   "outputs": [],
   "source": [
    "0.000082      \n",
    "epoch60_files = {\n",
    "    (1, 0.000082): \"celeba_xy_y_on_recons_zsdim1_epoch60.csv\",\n",
    "    (3, 0.000245): \"celeba_xy_y_on_recons_zsdim3_epoch60.csv\",\n",
    "    (5, 0.00041): \"celeba_xy_y_on_recons_zsdim5_epoch60.csv\",\n",
    "    (10, 0.00082): \"celeba_xy_y_on_recons_zsdim10_epoch60.csv\",\n",
    "    (30, 0.002442): \"celeba_xy_y_on_recons_zsdim30_epoch60.csv\",\n",
    "    (50, 0.00407): \"celeba_xy_y_on_recons_zsdim50_epoch60.csv\",\n",
    "}\n",
    "epoch20_files = {\n",
    "    (1, 0.000082): \"celeba_xy_y_on_recons_zsdim1_epoch20.csv\",\n",
    "    (3, 0.000245): \"celeba_xy_y_on_recons_zsdim3_epoch20.csv\",\n",
    "    (5, 0.00041): \"celeba_xy_y_on_recons_zsdim5_epoch20.csv\",\n",
    "    (10, 0.00082): \"celeba_xy_y_on_recons_zsdim10_epoch20.csv\",\n",
    "    (30, 0.002442): \"celeba_xy_y_on_recons_zsdim30_epoch20.csv\",\n",
    "    (50, 0.00407): \"celeba_xy_y_on_recons_zsdim50_epoch20.csv\",\n",
    "}"
   ]
  },
  {
   "cell_type": "code",
   "execution_count": 4,
   "metadata": {},
   "outputs": [],
   "source": [
    "def read(file_dict):\n",
    "    df = pd.DataFrame()\n",
    "    for (zsdim, zsfrac), fname in file_dict.items():\n",
    "        data = pd.read_csv(\"../../experiments/ablation/zs/1/\" + fname)\n",
    "        data[\"zsdim\"] = zsdim\n",
    "        data[\"zs percentage\"] = f\"{zsfrac * 100:.4f}%\"\n",
    "        df = pd.concat([df, data], axis=\"index\", sort=False, ignore_index=True)\n",
    "    return df"
   ]
  },
  {
   "cell_type": "code",
   "execution_count": 5,
   "metadata": {},
   "outputs": [],
   "source": [
    "epoch60 = read(epoch60_files)\n",
    "epoch20 = read(epoch20_files)"
   ]
  },
  {
   "cell_type": "code",
   "execution_count": 6,
   "metadata": {},
   "outputs": [
    {
     "data": {
      "text/html": [
       "<div>\n",
       "<style scoped>\n",
       "    .dataframe tbody tr th:only-of-type {\n",
       "        vertical-align: middle;\n",
       "    }\n",
       "\n",
       "    .dataframe tbody tr th {\n",
       "        vertical-align: top;\n",
       "    }\n",
       "\n",
       "    .dataframe thead th {\n",
       "        text-align: right;\n",
       "    }\n",
       "</style>\n",
       "<table border=\"1\" class=\"dataframe\">\n",
       "  <thead>\n",
       "    <tr style=\"text-align: right;\">\n",
       "      <th></th>\n",
       "      <th>dim($z_s$)</th>\n",
       "      <th>dim($z_s$)/dim($z$)</th>\n",
       "      <th>Accuracy</th>\n",
       "      <th>DP diff</th>\n",
       "    </tr>\n",
       "  </thead>\n",
       "  <tbody>\n",
       "    <tr>\n",
       "      <th>0</th>\n",
       "      <td>1</td>\n",
       "      <td>0.0082%</td>\n",
       "      <td>0.602320</td>\n",
       "      <td>0.634724</td>\n",
       "    </tr>\n",
       "    <tr>\n",
       "      <th>1</th>\n",
       "      <td>3</td>\n",
       "      <td>0.0245%</td>\n",
       "      <td>0.604294</td>\n",
       "      <td>0.629231</td>\n",
       "    </tr>\n",
       "    <tr>\n",
       "      <th>2</th>\n",
       "      <td>5</td>\n",
       "      <td>0.0410%</td>\n",
       "      <td>0.839240</td>\n",
       "      <td>0.116812</td>\n",
       "    </tr>\n",
       "    <tr>\n",
       "      <th>3</th>\n",
       "      <td>10</td>\n",
       "      <td>0.0820%</td>\n",
       "      <td>0.837488</td>\n",
       "      <td>0.116974</td>\n",
       "    </tr>\n",
       "    <tr>\n",
       "      <th>4</th>\n",
       "      <td>30</td>\n",
       "      <td>0.2442%</td>\n",
       "      <td>0.740005</td>\n",
       "      <td>0.233321</td>\n",
       "    </tr>\n",
       "    <tr>\n",
       "      <th>5</th>\n",
       "      <td>50</td>\n",
       "      <td>0.4070%</td>\n",
       "      <td>0.679862</td>\n",
       "      <td>0.266219</td>\n",
       "    </tr>\n",
       "  </tbody>\n",
       "</table>\n",
       "</div>"
      ],
      "text/plain": [
       "   dim($z_s$) dim($z_s$)/dim($z$)  Accuracy   DP diff\n",
       "0           1             0.0082%  0.602320  0.634724\n",
       "1           3             0.0245%  0.604294  0.629231\n",
       "2           5             0.0410%  0.839240  0.116812\n",
       "3          10             0.0820%  0.837488  0.116974\n",
       "4          30             0.2442%  0.740005  0.233321\n",
       "5          50             0.4070%  0.679862  0.266219"
      ]
     },
     "execution_count": 6,
     "metadata": {},
     "output_type": "execute_result"
    }
   ],
   "source": [
    "rename_dict = {\"zsdim\": \"dim($z_s$)\", \"zs percentage\": \"dim($z_s$)/dim($z$)\", \"prob_pos_sens_0.0-sens_1.0\": \"DP diff\"}\n",
    "table1 = epoch60.query(\"Mix_fact == 0\")[[\"zsdim\", \"zs percentage\", \"Accuracy\", \"prob_pos_sens_0.0-sens_1.0\"]].rename(columns=rename_dict).reset_index(drop=True)\n",
    "table1"
   ]
  },
  {
   "cell_type": "code",
   "execution_count": 7,
   "metadata": {},
   "outputs": [
    {
     "name": "stdout",
     "output_type": "stream",
     "text": [
      "\\begin{tabular}{rlrr}\n",
      "\\toprule\n",
      " dim($z_s$) & dim($z_s$)/dim($z$) &  Accuracy &   DP diff \\\\\n",
      "\\midrule\n",
      "          1 &             0.0082% &  0.602320 &  0.634724 \\\\\n",
      "          3 &             0.0245% &  0.604294 &  0.629231 \\\\\n",
      "          5 &             0.0410% &  0.839240 &  0.116812 \\\\\n",
      "         10 &             0.0820% &  0.837488 &  0.116974 \\\\\n",
      "         30 &             0.2442% &  0.740005 &  0.233321 \\\\\n",
      "         50 &             0.4070% &  0.679862 &  0.266219 \\\\\n",
      "\\bottomrule\n",
      "\\end{tabular}\n",
      "\n"
     ]
    }
   ],
   "source": [
    "print(table1.to_latex(index=False, escape=False))"
   ]
  },
  {
   "cell_type": "code",
   "execution_count": 35,
   "metadata": {},
   "outputs": [
    {
     "data": {
      "text/html": [
       "<div>\n",
       "<style scoped>\n",
       "    .dataframe tbody tr th:only-of-type {\n",
       "        vertical-align: middle;\n",
       "    }\n",
       "\n",
       "    .dataframe tbody tr th {\n",
       "        vertical-align: top;\n",
       "    }\n",
       "\n",
       "    .dataframe thead th {\n",
       "        text-align: right;\n",
       "    }\n",
       "</style>\n",
       "<table border=\"1\" class=\"dataframe\">\n",
       "  <thead>\n",
       "    <tr style=\"text-align: right;\">\n",
       "      <th></th>\n",
       "      <th>zsdim</th>\n",
       "      <th>zs percentage</th>\n",
       "      <th>Accuracy</th>\n",
       "      <th>prob_pos_sens_0.0-sens_1.0</th>\n",
       "    </tr>\n",
       "  </thead>\n",
       "  <tbody>\n",
       "    <tr>\n",
       "      <th>10</th>\n",
       "      <td>1</td>\n",
       "      <td>0.0082%</td>\n",
       "      <td>0.694472</td>\n",
       "      <td>0.713191</td>\n",
       "    </tr>\n",
       "    <tr>\n",
       "      <th>21</th>\n",
       "      <td>3</td>\n",
       "      <td>0.0245%</td>\n",
       "      <td>0.682577</td>\n",
       "      <td>0.748212</td>\n",
       "    </tr>\n",
       "    <tr>\n",
       "      <th>32</th>\n",
       "      <td>5</td>\n",
       "      <td>0.0410%</td>\n",
       "      <td>0.828677</td>\n",
       "      <td>0.340131</td>\n",
       "    </tr>\n",
       "    <tr>\n",
       "      <th>43</th>\n",
       "      <td>10</td>\n",
       "      <td>0.0820%</td>\n",
       "      <td>0.828554</td>\n",
       "      <td>0.357723</td>\n",
       "    </tr>\n",
       "    <tr>\n",
       "      <th>54</th>\n",
       "      <td>30</td>\n",
       "      <td>0.2442%</td>\n",
       "      <td>0.745138</td>\n",
       "      <td>0.428985</td>\n",
       "    </tr>\n",
       "    <tr>\n",
       "      <th>65</th>\n",
       "      <td>50</td>\n",
       "      <td>0.4070%</td>\n",
       "      <td>0.708342</td>\n",
       "      <td>0.407619</td>\n",
       "    </tr>\n",
       "  </tbody>\n",
       "</table>\n",
       "</div>"
      ],
      "text/plain": [
       "    zsdim zs percentage  Accuracy  prob_pos_sens_0.0-sens_1.0\n",
       "10      1       0.0082%  0.694472                    0.713191\n",
       "21      3       0.0245%  0.682577                    0.748212\n",
       "32      5       0.0410%  0.828677                    0.340131\n",
       "43     10       0.0820%  0.828554                    0.357723\n",
       "54     30       0.2442%  0.745138                    0.428985\n",
       "65     50       0.4070%  0.708342                    0.407619"
      ]
     },
     "execution_count": 35,
     "metadata": {},
     "output_type": "execute_result"
    }
   ],
   "source": [
    "epoch60.query(\"Mix_fact == 1\")[[\"zsdim\", \"zs percentage\", \"Accuracy\", \"prob_pos_sens_0.0-sens_1.0\"]]"
   ]
  },
  {
   "cell_type": "code",
   "execution_count": 18,
   "metadata": {},
   "outputs": [
    {
     "data": {
      "text/html": [
       "<div>\n",
       "<style scoped>\n",
       "    .dataframe tbody tr th:only-of-type {\n",
       "        vertical-align: middle;\n",
       "    }\n",
       "\n",
       "    .dataframe tbody tr th {\n",
       "        vertical-align: top;\n",
       "    }\n",
       "\n",
       "    .dataframe thead th {\n",
       "        text-align: right;\n",
       "    }\n",
       "</style>\n",
       "<table border=\"1\" class=\"dataframe\">\n",
       "  <thead>\n",
       "    <tr style=\"text-align: right;\">\n",
       "      <th></th>\n",
       "      <th>zsdim</th>\n",
       "      <th>Accuracy</th>\n",
       "      <th>prob_pos_sens_0.0-sens_1.0</th>\n",
       "    </tr>\n",
       "  </thead>\n",
       "  <tbody>\n",
       "    <tr>\n",
       "      <th>0</th>\n",
       "      <td>1</td>\n",
       "      <td>0.593682</td>\n",
       "      <td>0.646451</td>\n",
       "    </tr>\n",
       "    <tr>\n",
       "      <th>11</th>\n",
       "      <td>3</td>\n",
       "      <td>0.602345</td>\n",
       "      <td>0.640972</td>\n",
       "    </tr>\n",
       "    <tr>\n",
       "      <th>22</th>\n",
       "      <td>5</td>\n",
       "      <td>0.817275</td>\n",
       "      <td>0.170004</td>\n",
       "    </tr>\n",
       "    <tr>\n",
       "      <th>33</th>\n",
       "      <td>10</td>\n",
       "      <td>0.821372</td>\n",
       "      <td>0.156565</td>\n",
       "    </tr>\n",
       "    <tr>\n",
       "      <th>44</th>\n",
       "      <td>30</td>\n",
       "      <td>0.702369</td>\n",
       "      <td>0.335076</td>\n",
       "    </tr>\n",
       "    <tr>\n",
       "      <th>55</th>\n",
       "      <td>50</td>\n",
       "      <td>0.667349</td>\n",
       "      <td>0.356833</td>\n",
       "    </tr>\n",
       "  </tbody>\n",
       "</table>\n",
       "</div>"
      ],
      "text/plain": [
       "    zsdim  Accuracy  prob_pos_sens_0.0-sens_1.0\n",
       "0       1  0.593682                    0.646451\n",
       "11      3  0.602345                    0.640972\n",
       "22      5  0.817275                    0.170004\n",
       "33     10  0.821372                    0.156565\n",
       "44     30  0.702369                    0.335076\n",
       "55     50  0.667349                    0.356833"
      ]
     },
     "execution_count": 18,
     "metadata": {},
     "output_type": "execute_result"
    }
   ],
   "source": [
    "epoch20.query(\"Mix_fact == 0\")[[\"zsdim\", \"Accuracy\", \"prob_pos_sens_0.0-sens_1.0\"]]"
   ]
  },
  {
   "cell_type": "code",
   "execution_count": null,
   "metadata": {},
   "outputs": [],
   "source": []
  }
 ],
 "metadata": {
  "kernelspec": {
   "display_name": "Python 3",
   "language": "python",
   "name": "python3"
  },
  "language_info": {
   "codemirror_mode": {
    "name": "ipython",
    "version": 3
   },
   "file_extension": ".py",
   "mimetype": "text/x-python",
   "name": "python",
   "nbconvert_exporter": "python",
   "pygments_lexer": "ipython3",
   "version": "3.8.2"
  }
 },
 "nbformat": 4,
 "nbformat_minor": 4
}
